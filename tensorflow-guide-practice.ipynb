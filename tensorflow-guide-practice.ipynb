{
  "nbformat": 4,
  "nbformat_minor": 0,
  "metadata": {
    "colab": {
      "name": "Untitled0.ipynb",
      "provenance": [],
      "authorship_tag": "ABX9TyMivSZHXAtNsPUlufwpNQ/a",
      "include_colab_link": true
    },
    "kernelspec": {
      "name": "python3",
      "display_name": "Python 3"
    }
  },
  "cells": [
    {
      "cell_type": "markdown",
      "metadata": {
        "id": "view-in-github",
        "colab_type": "text"
      },
      "source": [
        "<a href=\"https://colab.research.google.com/github/imrangh/workspace/blob/master/tensorflow-guide-practice.ipynb\" target=\"_parent\"><img src=\"https://colab.research.google.com/assets/colab-badge.svg\" alt=\"Open In Colab\"/></a>"
      ]
    },
    {
      "cell_type": "code",
      "metadata": {
        "colab": {
          "base_uri": "https://localhost:8080/"
        },
        "id": "YLFdEef5jww-",
        "outputId": "38ddb5e8-d682-428d-a7e2-5bea0f118be2"
      },
      "source": [
        "%tensorflow_version 2.x  # this line is not required unless you are in a notebook"
      ],
      "execution_count": 2,
      "outputs": [
        {
          "output_type": "stream",
          "text": [
            "`%tensorflow_version` only switches the major version: 1.x or 2.x.\n",
            "You set: `2.x  # this line is not required unless you are in a notebook`. This will be interpreted as: `2.x`.\n",
            "\n",
            "\n",
            "TensorFlow 2.x selected.\n"
          ],
          "name": "stdout"
        }
      ]
    },
    {
      "cell_type": "code",
      "metadata": {
        "colab": {
          "base_uri": "https://localhost:8080/"
        },
        "id": "oXBx3IqYlYid",
        "outputId": "37906a1b-48e5-4a59-c60c-75516352d819"
      },
      "source": [
        "import tensorflow as tf  # now import the tensorflow module\r\n",
        "print(tf.version)  # make sure the version is 2.x"
      ],
      "execution_count": 3,
      "outputs": [
        {
          "output_type": "stream",
          "text": [
            "<module 'tensorflow._api.v2.version' from '/usr/local/lib/python3.6/dist-packages/tensorflow/_api/v2/version/__init__.py'>\n"
          ],
          "name": "stdout"
        }
      ]
    },
    {
      "cell_type": "code",
      "metadata": {
        "id": "mRaKVTznlrfN"
      },
      "source": [
        "string = tf.Variable(\"this is a string\", tf.string) \r\n",
        "number = tf.Variable(324, tf.int16)\r\n",
        "floating = tf.Variable(3.567, tf.float64)"
      ],
      "execution_count": 4,
      "outputs": []
    },
    {
      "cell_type": "code",
      "metadata": {
        "colab": {
          "base_uri": "https://localhost:8080/"
        },
        "id": "WzhWNGhfoISP",
        "outputId": "54a33cff-3235-4920-e98d-112d5cf5871a"
      },
      "source": [
        "string"
      ],
      "execution_count": 5,
      "outputs": [
        {
          "output_type": "execute_result",
          "data": {
            "text/plain": [
              "<tf.Variable 'Variable:0' shape=() dtype=string, numpy=b'this is a string'>"
            ]
          },
          "metadata": {
            "tags": []
          },
          "execution_count": 5
        }
      ]
    },
    {
      "cell_type": "code",
      "metadata": {
        "colab": {
          "base_uri": "https://localhost:8080/"
        },
        "id": "GqKpixTtoLkZ",
        "outputId": "38496207-d977-4baa-9029-24f1dcf55f7f"
      },
      "source": [
        "number"
      ],
      "execution_count": 6,
      "outputs": [
        {
          "output_type": "execute_result",
          "data": {
            "text/plain": [
              "<tf.Variable 'Variable:0' shape=() dtype=int32, numpy=324>"
            ]
          },
          "metadata": {
            "tags": []
          },
          "execution_count": 6
        }
      ]
    },
    {
      "cell_type": "code",
      "metadata": {
        "colab": {
          "base_uri": "https://localhost:8080/"
        },
        "id": "Ee0K-VFMoPRP",
        "outputId": "f8bed292-7a97-4e0c-aa89-9ec0d1e605d2"
      },
      "source": [
        "floating"
      ],
      "execution_count": 7,
      "outputs": [
        {
          "output_type": "execute_result",
          "data": {
            "text/plain": [
              "<tf.Variable 'Variable:0' shape=() dtype=float32, numpy=3.567>"
            ]
          },
          "metadata": {
            "tags": []
          },
          "execution_count": 7
        }
      ]
    },
    {
      "cell_type": "code",
      "metadata": {
        "id": "gx2Q0AdSoUtl"
      },
      "source": [
        "rank1_tensor = tf.Variable([\"Test\"], tf.string) \r\n",
        "rank2_tensor = tf.Variable([[\"test\", \"ok\"], [\"test\", \"yes\"]], tf.string)"
      ],
      "execution_count": 8,
      "outputs": []
    },
    {
      "cell_type": "code",
      "metadata": {
        "colab": {
          "base_uri": "https://localhost:8080/"
        },
        "id": "_3kVaBgWr0BU",
        "outputId": "74c092c5-f381-4e57-f667-804c6b2d310b"
      },
      "source": [
        "tf.rank(rank2_tensor)"
      ],
      "execution_count": 11,
      "outputs": [
        {
          "output_type": "execute_result",
          "data": {
            "text/plain": [
              "<tf.Tensor: shape=(), dtype=int32, numpy=2>"
            ]
          },
          "metadata": {
            "tags": []
          },
          "execution_count": 11
        }
      ]
    },
    {
      "cell_type": "code",
      "metadata": {
        "id": "j2O_3F4nr6Ky"
      },
      "source": [
        "tensor1 = tf.ones([1,2,3])  # tf.ones() creates a shape [1,2,3] tensor full of ones\r\n",
        "tensor2 = tf.reshape(tensor1, [2,3,1])  # reshape existing data to shape [2,3,1]\r\n",
        "tensor3 = tf.reshape(tensor2, [3, -1])  # -1 tells the tensor to calculate the size of the dimension in that place\r\n",
        "                                        # this will reshape the tensor to [3,3]\r\n",
        "                                                                             \r\n",
        "# The numer of elements in the reshaped tensor MUST match the number in the original"
      ],
      "execution_count": 15,
      "outputs": []
    },
    {
      "cell_type": "code",
      "metadata": {
        "colab": {
          "base_uri": "https://localhost:8080/"
        },
        "id": "O4NFJEfaOQYB",
        "outputId": "96044de2-9fe2-497b-e6db-bc89a935b5c2"
      },
      "source": [
        "print(tensor1)\r\n",
        "print(tensor2)\r\n",
        "print(tensor3)\r\n",
        "# Notice the changes in shape"
      ],
      "execution_count": 13,
      "outputs": [
        {
          "output_type": "stream",
          "text": [
            "tf.Tensor(\n",
            "[[[1. 1. 1.]\n",
            "  [1. 1. 1.]]], shape=(1, 2, 3), dtype=float32)\n",
            "tf.Tensor(\n",
            "[[[1.]\n",
            "  [1.]\n",
            "  [1.]]\n",
            "\n",
            " [[1.]\n",
            "  [1.]\n",
            "  [1.]]], shape=(2, 3, 1), dtype=float32)\n",
            "tf.Tensor(\n",
            "[[1. 1.]\n",
            " [1. 1.]\n",
            " [1. 1.]], shape=(3, 2), dtype=float32)\n"
          ],
          "name": "stdout"
        }
      ]
    },
    {
      "cell_type": "code",
      "metadata": {
        "colab": {
          "base_uri": "https://localhost:8080/"
        },
        "id": "XzgxcobMOWk5",
        "outputId": "093a9a51-4dcf-450a-b7c7-7d0982162d17"
      },
      "source": [
        "matrix = [[1,2,3,4,5],\r\n",
        "          [6,7,8,9,10],\r\n",
        "          [11,12,13,14,15],\r\n",
        "          [16,17,18,19,20],\r\n",
        "          [21,22,23,24,25]]\r\n",
        "\r\n",
        "tensor = tf.Variable(matrix, dtype=tf.int32) \r\n",
        "print(tf.rank(tensor))\r\n",
        "print(tensor.shape)"
      ],
      "execution_count": 40,
      "outputs": [
        {
          "output_type": "stream",
          "text": [
            "tf.Tensor(2, shape=(), dtype=int32)\n",
            "(5, 5)\n"
          ],
          "name": "stdout"
        }
      ]
    },
    {
      "cell_type": "code",
      "metadata": {
        "colab": {
          "base_uri": "https://localhost:8080/"
        },
        "id": "jilaSl3FSOA5",
        "outputId": "d8c94664-4872-4d0a-ef52-698f316df3b3"
      },
      "source": [
        "# Now lets select some different rows and columns from our tensor\r\n",
        "\r\n",
        "three = tensor[0,2]  # selects the 3rd element from the 1st row\r\n",
        "print(three)  # -> 3\r\n",
        "\r\n",
        "row1 = tensor[0]  # selects the first row\r\n",
        "print(row1)\r\n",
        "\r\n",
        "column1 = tensor[:, 0]  # selects the first column\r\n",
        "print(column1)\r\n",
        "\r\n",
        "row_2_and_4 = tensor[0::3]  # selects second and fourth row\r\n",
        "print(row_2_and_4)\r\n",
        "\r\n",
        "column_1_in_row_2_and_3 = tensor[1:3, 0]\r\n",
        "print(column_1_in_row_2_and_3)"
      ],
      "execution_count": 42,
      "outputs": [
        {
          "output_type": "stream",
          "text": [
            "tf.Tensor(3, shape=(), dtype=int32)\n",
            "tf.Tensor([1 2 3 4 5], shape=(5,), dtype=int32)\n",
            "tf.Tensor([ 1  6 11 16 21], shape=(5,), dtype=int32)\n",
            "tf.Tensor(\n",
            "[[ 1  2  3  4  5]\n",
            " [16 17 18 19 20]], shape=(2, 5), dtype=int32)\n",
            "tf.Tensor([ 6 11], shape=(2,), dtype=int32)\n"
          ],
          "name": "stdout"
        }
      ]
    },
    {
      "cell_type": "code",
      "metadata": {
        "colab": {
          "base_uri": "https://localhost:8080/"
        },
        "id": "9Spjyz56SiBz",
        "outputId": "582ff002-83bc-45e8-ff58-3975892be031"
      },
      "source": [
        "a = tf.constant([[1, 2],\r\n",
        "                 [3, 4]])\r\n",
        "b = tf.constant([[1, 1],\r\n",
        "                 [1, 1]]) # Could have also said `tf.ones([2,2])`\r\n",
        "\r\n",
        "print(tf.add(a, b), \"\\n\")\r\n",
        "print(tf.multiply(a, b), \"\\n\")\r\n",
        "print(tf.matmul(a, b), \"\\n\")"
      ],
      "execution_count": 43,
      "outputs": [
        {
          "output_type": "stream",
          "text": [
            "tf.Tensor(\n",
            "[[2 3]\n",
            " [4 5]], shape=(2, 2), dtype=int32) \n",
            "\n",
            "tf.Tensor(\n",
            "[[1 2]\n",
            " [3 4]], shape=(2, 2), dtype=int32) \n",
            "\n",
            "tf.Tensor(\n",
            "[[3 3]\n",
            " [7 7]], shape=(2, 2), dtype=int32) \n",
            "\n"
          ],
          "name": "stdout"
        }
      ]
    },
    {
      "cell_type": "code",
      "metadata": {
        "colab": {
          "base_uri": "https://localhost:8080/"
        },
        "id": "7eDNLct0vprn",
        "outputId": "fae4a1bd-4721-4237-c48a-02dad77677d9"
      },
      "source": [
        "print(a + b, \"\\n\") # element-wise addition\r\n",
        "print(a * b, \"\\n\") # element-wise multiplication\r\n",
        "print(a @ b, \"\\n\") # matrix multiplication"
      ],
      "execution_count": 44,
      "outputs": [
        {
          "output_type": "stream",
          "text": [
            "tf.Tensor(\n",
            "[[2 3]\n",
            " [4 5]], shape=(2, 2), dtype=int32) \n",
            "\n",
            "tf.Tensor(\n",
            "[[1 2]\n",
            " [3 4]], shape=(2, 2), dtype=int32) \n",
            "\n",
            "tf.Tensor(\n",
            "[[3 3]\n",
            " [7 7]], shape=(2, 2), dtype=int32) \n",
            "\n"
          ],
          "name": "stdout"
        }
      ]
    },
    {
      "cell_type": "code",
      "metadata": {
        "colab": {
          "base_uri": "https://localhost:8080/"
        },
        "id": "lqiXycnNwf_8",
        "outputId": "07432508-95de-47dc-9861-16acba2ea7b0"
      },
      "source": [
        "c = tf.constant([[4.0, 5.0], [10.0, 1.0]])\r\n",
        "\r\n",
        "# Find the largest value\r\n",
        "print(tf.reduce_max(c))\r\n",
        "# Find the index of the largest value\r\n",
        "print(tf.argmax(c))\r\n",
        "# Compute the softmax\r\n",
        "print(tf.nn.softmax(c))"
      ],
      "execution_count": 45,
      "outputs": [
        {
          "output_type": "stream",
          "text": [
            "tf.Tensor(10.0, shape=(), dtype=float32)\n",
            "tf.Tensor([1 0], shape=(2,), dtype=int64)\n",
            "tf.Tensor(\n",
            "[[2.6894143e-01 7.3105860e-01]\n",
            " [9.9987662e-01 1.2339458e-04]], shape=(2, 2), dtype=float32)\n"
          ],
          "name": "stdout"
        }
      ]
    },
    {
      "cell_type": "code",
      "metadata": {
        "id": "wo53UYRnw401"
      },
      "source": [
        "rank_4_tensor = tf.zeros([3, 2, 4, 5])"
      ],
      "execution_count": 46,
      "outputs": []
    },
    {
      "cell_type": "code",
      "metadata": {
        "colab": {
          "base_uri": "https://localhost:8080/"
        },
        "id": "lZMHGxS3yFnF",
        "outputId": "43cc2ee7-fc38-4d95-947a-0cb14bdf465a"
      },
      "source": [
        "print(\"Type of every element:\", rank_4_tensor.dtype)\r\n",
        "print(\"Number of axes:\", rank_4_tensor.ndim)\r\n",
        "print(\"Shape of tensor:\", rank_4_tensor.shape)\r\n",
        "print(\"Elements along axis 0 of tensor:\", rank_4_tensor.shape[0])\r\n",
        "print(\"Elements along the last axis of tensor:\", rank_4_tensor.shape[-1])\r\n",
        "print(\"Total number of elements (3*2*4*5): \", tf.size(rank_4_tensor).numpy())"
      ],
      "execution_count": 47,
      "outputs": [
        {
          "output_type": "stream",
          "text": [
            "Type of every element: <dtype: 'float32'>\n",
            "Number of axes: 4\n",
            "Shape of tensor: (3, 2, 4, 5)\n",
            "Elements along axis 0 of tensor: 3\n",
            "Elements along the last axis of tensor: 5\n",
            "Total number of elements (3*2*4*5):  120\n"
          ],
          "name": "stdout"
        }
      ]
    },
    {
      "cell_type": "code",
      "metadata": {
        "id": "CH1HRtSuyKmg"
      },
      "source": [
        "pip install -q sklearn"
      ],
      "execution_count": 1,
      "outputs": []
    },
    {
      "cell_type": "code",
      "metadata": {
        "id": "EZpBS-64-QBK"
      },
      "source": [
        "import os\r\n",
        "import sys\r\n",
        "\r\n",
        "import numpy as np\r\n",
        "import pandas as pd\r\n",
        "import matplotlib.pyplot as plt\r\n",
        "from IPython.display import clear_output\r\n",
        "from six.moves import urllib"
      ],
      "execution_count": 5,
      "outputs": []
    },
    {
      "cell_type": "code",
      "metadata": {
        "id": "kj0TytIA-zhb"
      },
      "source": [
        "import tensorflow.compat.v2.feature_column as fc\r\n",
        "import tensorflow as tf\r\n",
        "\r\n",
        "#Load data set\r\n",
        "dftrain = pd.read_csv('https://storage.googleapis.com/tf-datasets/titanic/train.csv')\r\n",
        "dfeval = pd.read_csv('https://storage.googleapis.com/tf-datasets/titanic/eval.csv')\r\n",
        "y_train = dftrain.pop('survived')\r\n",
        "y_eval = dfeval.pop('survived')\r\n"
      ],
      "execution_count": 6,
      "outputs": []
    },
    {
      "cell_type": "code",
      "metadata": {
        "colab": {
          "base_uri": "https://localhost:8080/",
          "height": 195
        },
        "id": "xBj1cBzV_2zN",
        "outputId": "ad66a1d1-e875-4ab9-c0ba-06dc83b34220"
      },
      "source": [
        "dftrain.head()"
      ],
      "execution_count": 4,
      "outputs": [
        {
          "output_type": "execute_result",
          "data": {
            "text/html": [
              "<div>\n",
              "<style scoped>\n",
              "    .dataframe tbody tr th:only-of-type {\n",
              "        vertical-align: middle;\n",
              "    }\n",
              "\n",
              "    .dataframe tbody tr th {\n",
              "        vertical-align: top;\n",
              "    }\n",
              "\n",
              "    .dataframe thead th {\n",
              "        text-align: right;\n",
              "    }\n",
              "</style>\n",
              "<table border=\"1\" class=\"dataframe\">\n",
              "  <thead>\n",
              "    <tr style=\"text-align: right;\">\n",
              "      <th></th>\n",
              "      <th>sex</th>\n",
              "      <th>age</th>\n",
              "      <th>n_siblings_spouses</th>\n",
              "      <th>parch</th>\n",
              "      <th>fare</th>\n",
              "      <th>class</th>\n",
              "      <th>deck</th>\n",
              "      <th>embark_town</th>\n",
              "      <th>alone</th>\n",
              "    </tr>\n",
              "  </thead>\n",
              "  <tbody>\n",
              "    <tr>\n",
              "      <th>0</th>\n",
              "      <td>male</td>\n",
              "      <td>22.0</td>\n",
              "      <td>1</td>\n",
              "      <td>0</td>\n",
              "      <td>7.2500</td>\n",
              "      <td>Third</td>\n",
              "      <td>unknown</td>\n",
              "      <td>Southampton</td>\n",
              "      <td>n</td>\n",
              "    </tr>\n",
              "    <tr>\n",
              "      <th>1</th>\n",
              "      <td>female</td>\n",
              "      <td>38.0</td>\n",
              "      <td>1</td>\n",
              "      <td>0</td>\n",
              "      <td>71.2833</td>\n",
              "      <td>First</td>\n",
              "      <td>C</td>\n",
              "      <td>Cherbourg</td>\n",
              "      <td>n</td>\n",
              "    </tr>\n",
              "    <tr>\n",
              "      <th>2</th>\n",
              "      <td>female</td>\n",
              "      <td>26.0</td>\n",
              "      <td>0</td>\n",
              "      <td>0</td>\n",
              "      <td>7.9250</td>\n",
              "      <td>Third</td>\n",
              "      <td>unknown</td>\n",
              "      <td>Southampton</td>\n",
              "      <td>y</td>\n",
              "    </tr>\n",
              "    <tr>\n",
              "      <th>3</th>\n",
              "      <td>female</td>\n",
              "      <td>35.0</td>\n",
              "      <td>1</td>\n",
              "      <td>0</td>\n",
              "      <td>53.1000</td>\n",
              "      <td>First</td>\n",
              "      <td>C</td>\n",
              "      <td>Southampton</td>\n",
              "      <td>n</td>\n",
              "    </tr>\n",
              "    <tr>\n",
              "      <th>4</th>\n",
              "      <td>male</td>\n",
              "      <td>28.0</td>\n",
              "      <td>0</td>\n",
              "      <td>0</td>\n",
              "      <td>8.4583</td>\n",
              "      <td>Third</td>\n",
              "      <td>unknown</td>\n",
              "      <td>Queenstown</td>\n",
              "      <td>y</td>\n",
              "    </tr>\n",
              "  </tbody>\n",
              "</table>\n",
              "</div>"
            ],
            "text/plain": [
              "      sex   age  n_siblings_spouses  parch  ...  class     deck  embark_town alone\n",
              "0    male  22.0                   1      0  ...  Third  unknown  Southampton     n\n",
              "1  female  38.0                   1      0  ...  First        C    Cherbourg     n\n",
              "2  female  26.0                   0      0  ...  Third  unknown  Southampton     y\n",
              "3  female  35.0                   1      0  ...  First        C  Southampton     n\n",
              "4    male  28.0                   0      0  ...  Third  unknown   Queenstown     y\n",
              "\n",
              "[5 rows x 9 columns]"
            ]
          },
          "metadata": {
            "tags": []
          },
          "execution_count": 4
        }
      ]
    },
    {
      "cell_type": "code",
      "metadata": {
        "colab": {
          "base_uri": "https://localhost:8080/",
          "height": 284
        },
        "id": "AUuAYjkN_8ia",
        "outputId": "b039bc4a-03a6-4255-baa9-12257044f957"
      },
      "source": [
        "dftrain.describe()"
      ],
      "execution_count": 5,
      "outputs": [
        {
          "output_type": "execute_result",
          "data": {
            "text/html": [
              "<div>\n",
              "<style scoped>\n",
              "    .dataframe tbody tr th:only-of-type {\n",
              "        vertical-align: middle;\n",
              "    }\n",
              "\n",
              "    .dataframe tbody tr th {\n",
              "        vertical-align: top;\n",
              "    }\n",
              "\n",
              "    .dataframe thead th {\n",
              "        text-align: right;\n",
              "    }\n",
              "</style>\n",
              "<table border=\"1\" class=\"dataframe\">\n",
              "  <thead>\n",
              "    <tr style=\"text-align: right;\">\n",
              "      <th></th>\n",
              "      <th>age</th>\n",
              "      <th>n_siblings_spouses</th>\n",
              "      <th>parch</th>\n",
              "      <th>fare</th>\n",
              "    </tr>\n",
              "  </thead>\n",
              "  <tbody>\n",
              "    <tr>\n",
              "      <th>count</th>\n",
              "      <td>627.000000</td>\n",
              "      <td>627.000000</td>\n",
              "      <td>627.000000</td>\n",
              "      <td>627.000000</td>\n",
              "    </tr>\n",
              "    <tr>\n",
              "      <th>mean</th>\n",
              "      <td>29.631308</td>\n",
              "      <td>0.545455</td>\n",
              "      <td>0.379585</td>\n",
              "      <td>34.385399</td>\n",
              "    </tr>\n",
              "    <tr>\n",
              "      <th>std</th>\n",
              "      <td>12.511818</td>\n",
              "      <td>1.151090</td>\n",
              "      <td>0.792999</td>\n",
              "      <td>54.597730</td>\n",
              "    </tr>\n",
              "    <tr>\n",
              "      <th>min</th>\n",
              "      <td>0.750000</td>\n",
              "      <td>0.000000</td>\n",
              "      <td>0.000000</td>\n",
              "      <td>0.000000</td>\n",
              "    </tr>\n",
              "    <tr>\n",
              "      <th>25%</th>\n",
              "      <td>23.000000</td>\n",
              "      <td>0.000000</td>\n",
              "      <td>0.000000</td>\n",
              "      <td>7.895800</td>\n",
              "    </tr>\n",
              "    <tr>\n",
              "      <th>50%</th>\n",
              "      <td>28.000000</td>\n",
              "      <td>0.000000</td>\n",
              "      <td>0.000000</td>\n",
              "      <td>15.045800</td>\n",
              "    </tr>\n",
              "    <tr>\n",
              "      <th>75%</th>\n",
              "      <td>35.000000</td>\n",
              "      <td>1.000000</td>\n",
              "      <td>0.000000</td>\n",
              "      <td>31.387500</td>\n",
              "    </tr>\n",
              "    <tr>\n",
              "      <th>max</th>\n",
              "      <td>80.000000</td>\n",
              "      <td>8.000000</td>\n",
              "      <td>5.000000</td>\n",
              "      <td>512.329200</td>\n",
              "    </tr>\n",
              "  </tbody>\n",
              "</table>\n",
              "</div>"
            ],
            "text/plain": [
              "              age  n_siblings_spouses       parch        fare\n",
              "count  627.000000          627.000000  627.000000  627.000000\n",
              "mean    29.631308            0.545455    0.379585   34.385399\n",
              "std     12.511818            1.151090    0.792999   54.597730\n",
              "min      0.750000            0.000000    0.000000    0.000000\n",
              "25%     23.000000            0.000000    0.000000    7.895800\n",
              "50%     28.000000            0.000000    0.000000   15.045800\n",
              "75%     35.000000            1.000000    0.000000   31.387500\n",
              "max     80.000000            8.000000    5.000000  512.329200"
            ]
          },
          "metadata": {
            "tags": []
          },
          "execution_count": 5
        }
      ]
    },
    {
      "cell_type": "code",
      "metadata": {
        "colab": {
          "base_uri": "https://localhost:8080/"
        },
        "id": "DU6uX2J6APa1",
        "outputId": "8f5c4cd1-17db-425d-84a1-1fdf1884ff40"
      },
      "source": [
        "dftrain.shape[0], dfeval.shape[0]"
      ],
      "execution_count": 6,
      "outputs": [
        {
          "output_type": "execute_result",
          "data": {
            "text/plain": [
              "(627, 264)"
            ]
          },
          "metadata": {
            "tags": []
          },
          "execution_count": 6
        }
      ]
    },
    {
      "cell_type": "code",
      "metadata": {
        "colab": {
          "base_uri": "https://localhost:8080/",
          "height": 282
        },
        "id": "BUlU_yBvAqCg",
        "outputId": "3effbe9d-004f-4528-a78e-c074f340e24f"
      },
      "source": [
        "dftrain.age.hist(bins=20)"
      ],
      "execution_count": 7,
      "outputs": [
        {
          "output_type": "execute_result",
          "data": {
            "text/plain": [
              "<matplotlib.axes._subplots.AxesSubplot at 0x7f793e759898>"
            ]
          },
          "metadata": {
            "tags": []
          },
          "execution_count": 7
        },
        {
          "output_type": "display_data",
          "data": {
            "image/png": "[encoded data removed]",
            "text/plain": [
              "<Figure size 432x288 with 1 Axes>"
            ]
          },
          "metadata": {
            "tags": [],
            "needs_background": "light"
          }
        }
      ]
    },
    {
      "cell_type": "code",
      "metadata": {
        "colab": {
          "base_uri": "https://localhost:8080/",
          "height": 265
        },
        "id": "vQ5V7oy8A-Fz",
        "outputId": "94b47a70-27a5-4142-b2ae-161047d2ea86"
      },
      "source": [
        "dftrain.sex.value_counts().plot(kind='pie')"
      ],
      "execution_count": 9,
      "outputs": [
        {
          "output_type": "execute_result",
          "data": {
            "text/plain": [
              "<matplotlib.axes._subplots.AxesSubplot at 0x7f793deb2198>"
            ]
          },
          "metadata": {
            "tags": []
          },
          "execution_count": 9
        },
        {
          "output_type": "display_data",
          "data": {
            "image/png": "[encoded data removed]",
            "text/plain": [
              "<Figure size 432x288 with 1 Axes>"
            ]
          },
          "metadata": {
            "tags": []
          }
        }
      ]
    },
    {
      "cell_type": "code",
      "metadata": {
        "colab": {
          "base_uri": "https://localhost:8080/",
          "height": 282
        },
        "id": "i4oCVYr-Bjnt",
        "outputId": "43c30c12-22dc-4ded-f398-50826d5b369c"
      },
      "source": [
        "dftrain['class'].value_counts().plot(kind='barh')"
      ],
      "execution_count": 10,
      "outputs": [
        {
          "output_type": "execute_result",
          "data": {
            "text/plain": [
              "<matplotlib.axes._subplots.AxesSubplot at 0x7f793ce74e48>"
            ]
          },
          "metadata": {
            "tags": []
          },
          "execution_count": 10
        },
        {
          "output_type": "display_data",
          "data": {
            "image/png": "[encoded data removed]",
            "text/plain": [
              "<Figure size 432x288 with 1 Axes>"
            ]
          },
          "metadata": {
            "tags": [],
            "needs_background": "light"
          }
        }
      ]
    },
    {
      "cell_type": "code",
      "metadata": {
        "colab": {
          "base_uri": "https://localhost:8080/",
          "height": 296
        },
        "id": "3shckILBCIWG",
        "outputId": "d5b6e8fb-f894-493e-ccff-9702f2d61fcb"
      },
      "source": [
        "pd.concat([dftrain, y_train], axis=1).groupby('sex').survived.mean().plot(kind='barh').set_xlabel('% survive')"
      ],
      "execution_count": 11,
      "outputs": [
        {
          "output_type": "execute_result",
          "data": {
            "text/plain": [
              "Text(0.5, 0, '% survive')"
            ]
          },
          "metadata": {
            "tags": []
          },
          "execution_count": 11
        },
        {
          "output_type": "display_data",
          "data": {
            "image/png": "[encoded data removed]",
            "text/plain": [
              "<Figure size 432x288 with 1 Axes>"
            ]
          },
          "metadata": {
            "tags": [],
            "needs_background": "light"
          }
        }
      ]
    },
    {
      "cell_type": "code",
      "metadata": {
        "colab": {
          "base_uri": "https://localhost:8080/",
          "height": 286
        },
        "id": "hccxm92aCmIQ",
        "outputId": "f56f8857-a9dd-4a13-d6f4-2bebf84a0629"
      },
      "source": [
        "x=[1,2,2.5,3.25,4]\r\n",
        "y=[1,4,7,9,13]\r\n",
        "\r\n",
        "plt.plot(x,y,'r*')\r\n",
        "plt.axis([0,6,0,20])\r\n",
        "\r\n",
        "plt.plot(np.unique(x), np.poly1d(np.polyfit(x, y, 1))(np.unique(x)))"
      ],
      "execution_count": 17,
      "outputs": [
        {
          "output_type": "execute_result",
          "data": {
            "text/plain": [
              "[<matplotlib.lines.Line2D at 0x7f793c822da0>]"
            ]
          },
          "metadata": {
            "tags": []
          },
          "execution_count": 17
        },
        {
          "output_type": "display_data",
          "data": {
            "image/png": "[encoded data removed]",
            "text/plain": [
              "<Figure size 432x288 with 1 Axes>"
            ]
          },
          "metadata": {
            "tags": [],
            "needs_background": "light"
          }
        }
      ]
    },
    {
      "cell_type": "code",
      "metadata": {
        "colab": {
          "base_uri": "https://localhost:8080/"
        },
        "id": "D9gtHyHuEs4t",
        "outputId": "16927524-ba8b-431d-f74b-33c10ae54bff"
      },
      "source": [
        "dftrain.loc[0]"
      ],
      "execution_count": 18,
      "outputs": [
        {
          "output_type": "execute_result",
          "data": {
            "text/plain": [
              "sex                          male\n",
              "age                            22\n",
              "n_siblings_spouses              1\n",
              "parch                           0\n",
              "fare                         7.25\n",
              "class                       Third\n",
              "deck                      unknown\n",
              "embark_town           Southampton\n",
              "alone                           n\n",
              "Name: 0, dtype: object"
            ]
          },
          "metadata": {
            "tags": []
          },
          "execution_count": 18
        }
      ]
    },
    {
      "cell_type": "code",
      "metadata": {
        "colab": {
          "base_uri": "https://localhost:8080/"
        },
        "id": "9FGkzkgaG7tu",
        "outputId": "eb21caa3-a625-48fc-ecdf-576ce428ddaa"
      },
      "source": [
        "y_train.loc[0]"
      ],
      "execution_count": 19,
      "outputs": [
        {
          "output_type": "execute_result",
          "data": {
            "text/plain": [
              "0"
            ]
          },
          "metadata": {
            "tags": []
          },
          "execution_count": 19
        }
      ]
    },
    {
      "cell_type": "code",
      "metadata": {
        "colab": {
          "base_uri": "https://localhost:8080/"
        },
        "id": "HftABORwHN9q",
        "outputId": "e06f19dd-00f9-44fb-d21b-7d7e94d8e30a"
      },
      "source": [
        "rank_1_tensor = tf.constant([0,1,1,2,3,5,8,13,21,34])\r\n",
        "print(rank_1_tensor.numpy())"
      ],
      "execution_count": 7,
      "outputs": [
        {
          "output_type": "stream",
          "text": [
            "[ 0  1  1  2  3  5  8 13 21 34]\n"
          ],
          "name": "stdout"
        }
      ]
    },
    {
      "cell_type": "code",
      "metadata": {
        "colab": {
          "base_uri": "https://localhost:8080/"
        },
        "id": "nZLy5tsqg0Pk",
        "outputId": "5dd06d5f-f283-465b-c7ab-97677db34abf"
      },
      "source": [
        "print(\"First:\", rank_1_tensor[0].numpy())"
      ],
      "execution_count": 8,
      "outputs": [
        {
          "output_type": "stream",
          "text": [
            "First: 0\n"
          ],
          "name": "stdout"
        }
      ]
    },
    {
      "cell_type": "code",
      "metadata": {
        "colab": {
          "base_uri": "https://localhost:8080/"
        },
        "id": "OQJ2PfkjhYO6",
        "outputId": "67e6ff6f-ee18-4b5e-a42c-9d79b8c57727"
      },
      "source": [
        "print(\"Second:\", rank_1_tensor[1].numpy())"
      ],
      "execution_count": 9,
      "outputs": [
        {
          "output_type": "stream",
          "text": [
            "Second: 1\n"
          ],
          "name": "stdout"
        }
      ]
    },
    {
      "cell_type": "code",
      "metadata": {
        "colab": {
          "base_uri": "https://localhost:8080/"
        },
        "id": "0g-TCbfkhe63",
        "outputId": "c53b5895-82e4-41e2-a21d-2fd17c9a6dc6"
      },
      "source": [
        "print(\"Last:\", rank_1_tensor[-1].numpy())"
      ],
      "execution_count": 10,
      "outputs": [
        {
          "output_type": "stream",
          "text": [
            "Last: 34\n"
          ],
          "name": "stdout"
        }
      ]
    },
    {
      "cell_type": "code",
      "metadata": {
        "colab": {
          "base_uri": "https://localhost:8080/"
        },
        "id": "oYo1pKuDhjzo",
        "outputId": "269722fe-4ea0-47aa-f083-f719dfd0accb"
      },
      "source": [
        "print(\"Everything:\", rank_1_tensor[:].numpy())"
      ],
      "execution_count": 11,
      "outputs": [
        {
          "output_type": "stream",
          "text": [
            "Everything: [ 0  1  1  2  3  5  8 13 21 34]\n"
          ],
          "name": "stdout"
        }
      ]
    },
    {
      "cell_type": "code",
      "metadata": {
        "colab": {
          "base_uri": "https://localhost:8080/"
        },
        "id": "SjuwFlk4hwej",
        "outputId": "d5a9231e-f573-4f6a-ddb8-8711f9e46e1b"
      },
      "source": [
        "print(\"Before 4:\", rank_1_tensor[:4].numpy())"
      ],
      "execution_count": 12,
      "outputs": [
        {
          "output_type": "stream",
          "text": [
            "Before 4: [0 1 1 2]\n"
          ],
          "name": "stdout"
        }
      ]
    },
    {
      "cell_type": "code",
      "metadata": {
        "colab": {
          "base_uri": "https://localhost:8080/"
        },
        "id": "ESsRsRUWh3nC",
        "outputId": "21a98734-9108-4e56-9cf1-26ed43800441"
      },
      "source": [
        "print(\"From 4 to End:\", rank_1_tensor[4:].numpy())"
      ],
      "execution_count": 13,
      "outputs": [
        {
          "output_type": "stream",
          "text": [
            "From 4 to End: [ 3  5  8 13 21 34]\n"
          ],
          "name": "stdout"
        }
      ]
    },
    {
      "cell_type": "code",
      "metadata": {
        "colab": {
          "base_uri": "https://localhost:8080/"
        },
        "id": "SjOaYZcMiEqx",
        "outputId": "205b3902-388a-499d-ed29-677011ef63f1"
      },
      "source": [
        "print(\"From 2 Before 7:\", rank_1_tensor[2:7].numpy())"
      ],
      "execution_count": 14,
      "outputs": [
        {
          "output_type": "stream",
          "text": [
            "From 2 Before 7: [1 2 3 5 8]\n"
          ],
          "name": "stdout"
        }
      ]
    },
    {
      "cell_type": "code",
      "metadata": {
        "colab": {
          "base_uri": "https://localhost:8080/"
        },
        "id": "bTpe5AiqiNgS",
        "outputId": "beea2f72-d675-439e-b4cc-deeef1cd3d88"
      },
      "source": [
        "print(\"Every other item:\", rank_1_tensor[::2].numpy())"
      ],
      "execution_count": 15,
      "outputs": [
        {
          "output_type": "stream",
          "text": [
            "Every other item: [ 0  1  3  8 21]\n"
          ],
          "name": "stdout"
        }
      ]
    },
    {
      "cell_type": "code",
      "metadata": {
        "colab": {
          "base_uri": "https://localhost:8080/"
        },
        "id": "zlqw4s8wiX3T",
        "outputId": "7bedc737-c355-4ea6-dd2a-b9fd8ccc9b53"
      },
      "source": [
        "print(\"Reverse:\", rank_1_tensor[-1:0].numpy())"
      ],
      "execution_count": 17,
      "outputs": [
        {
          "output_type": "stream",
          "text": [
            "Reverse: []\n"
          ],
          "name": "stdout"
        }
      ]
    },
    {
      "cell_type": "code",
      "metadata": {
        "colab": {
          "base_uri": "https://localhost:8080/"
        },
        "id": "woaHuz1Uif_S",
        "outputId": "3fe7fa25-bf80-4783-b26f-cc51c313ba29"
      },
      "source": [
        "print(\"First:\", rank_1_tensor[::-1].numpy())"
      ],
      "execution_count": 18,
      "outputs": [
        {
          "output_type": "stream",
          "text": [
            "First: [34 21 13  8  5  3  2  1  1  0]\n"
          ],
          "name": "stdout"
        }
      ]
    },
    {
      "cell_type": "code",
      "metadata": {
        "colab": {
          "base_uri": "https://localhost:8080/",
          "height": 162
        },
        "id": "IeuVxfhoip3Z",
        "outputId": "2d1c25ff-015f-42cc-e5ab-eaf63598a1e7"
      },
      "source": [
        "print(rank_2_tensor.numpy())"
      ],
      "execution_count": 19,
      "outputs": [
        {
          "output_type": "error",
          "ename": "NameError",
          "evalue": "ignored",
          "traceback": [
            "\u001b[0;31m---------------------------------------------------------------------------\u001b[0m",
            "\u001b[0;31mNameError\u001b[0m                                 Traceback (most recent call last)",
            "\u001b[0;32m<ipython-input-19-4427e78ff3b2>\u001b[0m in \u001b[0;36m<module>\u001b[0;34m()\u001b[0m\n\u001b[0;32m----> 1\u001b[0;31m \u001b[0mprint\u001b[0m\u001b[0;34m(\u001b[0m\u001b[0mrank_2_tensor\u001b[0m\u001b[0;34m.\u001b[0m\u001b[0mnumpy\u001b[0m\u001b[0;34m(\u001b[0m\u001b[0;34m)\u001b[0m\u001b[0;34m)\u001b[0m\u001b[0;34m\u001b[0m\u001b[0;34m\u001b[0m\u001b[0m\n\u001b[0m",
            "\u001b[0;31mNameError\u001b[0m: name 'rank_2_tensor' is not defined"
          ]
        }
      ]
    },
    {
      "cell_type": "code",
      "metadata": {
        "id": "VDSJDJDTjGk9"
      },
      "source": [
        "rank_2_tensor = tf.constant([[1,2],[3,4],[5,6]], tf.float32)"
      ],
      "execution_count": 24,
      "outputs": []
    },
    {
      "cell_type": "code",
      "metadata": {
        "colab": {
          "base_uri": "https://localhost:8080/"
        },
        "id": "dMIJbs55jmIv",
        "outputId": "2fc2203a-fb24-4249-9611-c3468848da21"
      },
      "source": [
        "print(rank_2_tensor.numpy())"
      ],
      "execution_count": 25,
      "outputs": [
        {
          "output_type": "stream",
          "text": [
            "[[1. 2.]\n",
            " [3. 4.]\n",
            " [5. 6.]]\n"
          ],
          "name": "stdout"
        }
      ]
    },
    {
      "cell_type": "code",
      "metadata": {
        "colab": {
          "base_uri": "https://localhost:8080/"
        },
        "id": "BuTQhDilkZNX",
        "outputId": "e8ca050f-118b-4829-ed54-cd77d3db0d50"
      },
      "source": [
        "print(rank_2_tensor[1,1].numpy())"
      ],
      "execution_count": 27,
      "outputs": [
        {
          "output_type": "stream",
          "text": [
            "4.0\n"
          ],
          "name": "stdout"
        }
      ]
    },
    {
      "cell_type": "code",
      "metadata": {
        "colab": {
          "base_uri": "https://localhost:8080/"
        },
        "id": "0HNWOVDpxdCG",
        "outputId": "73da1fc8-abf5-4522-a284-5c844aa77d24"
      },
      "source": [
        "print(\"Second Row: \", rank_2_tensor[1, :].numpy())"
      ],
      "execution_count": 28,
      "outputs": [
        {
          "output_type": "stream",
          "text": [
            "Second Row:  [3. 4.]\n"
          ],
          "name": "stdout"
        }
      ]
    },
    {
      "cell_type": "code",
      "metadata": {
        "colab": {
          "base_uri": "https://localhost:8080/"
        },
        "id": "W69CtxK5yCK8",
        "outputId": "f57805ac-c561-4016-e922-8964222b6c30"
      },
      "source": [
        "print(\"Second Column: \", rank_2_tensor[:,1].numpy())"
      ],
      "execution_count": 30,
      "outputs": [
        {
          "output_type": "stream",
          "text": [
            "Second Column:  [2. 4. 6.]\n"
          ],
          "name": "stdout"
        }
      ]
    },
    {
      "cell_type": "code",
      "metadata": {
        "colab": {
          "base_uri": "https://localhost:8080/"
        },
        "id": "2K4ShLctyOAX",
        "outputId": "ab195500-910e-41a3-903d-7db88e66edc0"
      },
      "source": [
        "print(\"Last Row: \", rank_2_tensor[-1, :].numpy())"
      ],
      "execution_count": 31,
      "outputs": [
        {
          "output_type": "stream",
          "text": [
            "Last Row:  [5. 6.]\n"
          ],
          "name": "stdout"
        }
      ]
    },
    {
      "cell_type": "code",
      "metadata": {
        "colab": {
          "base_uri": "https://localhost:8080/"
        },
        "id": "NQUZHTeUyjKq",
        "outputId": "2598dc5e-f7ac-4d9a-d955-dfcc3abec8f5"
      },
      "source": [
        "print(\"First Item in last column: \", rank_2_tensor[0,-1].numpy())"
      ],
      "execution_count": 32,
      "outputs": [
        {
          "output_type": "stream",
          "text": [
            "First Item in last column:  2.0\n"
          ],
          "name": "stdout"
        }
      ]
    },
    {
      "cell_type": "code",
      "metadata": {
        "colab": {
          "base_uri": "https://localhost:8080/"
        },
        "id": "eWlms2Epy3qB",
        "outputId": "84252f23-2a6b-408d-ec44-badbb8aa7738"
      },
      "source": [
        "print(\"Skip the first row: \", rank_2_tensor[1:,:].numpy(), \"\\n\")"
      ],
      "execution_count": 34,
      "outputs": [
        {
          "output_type": "stream",
          "text": [
            "Skip the first row:  [[3. 4.]\n",
            " [5. 6.]] \n",
            "\n"
          ],
          "name": "stdout"
        }
      ]
    },
    {
      "cell_type": "code",
      "metadata": {
        "colab": {
          "base_uri": "https://localhost:8080/",
          "height": 162
        },
        "id": "hvxqydPh0mw7",
        "outputId": "be09533c-9fe5-4cbf-c40a-467444b0ecfd"
      },
      "source": [
        "print(rank_3_tensor[:, :, 4])"
      ],
      "execution_count": 35,
      "outputs": [
        {
          "output_type": "error",
          "ename": "NameError",
          "evalue": "ignored",
          "traceback": [
            "\u001b[0;31m---------------------------------------------------------------------------\u001b[0m",
            "\u001b[0;31mNameError\u001b[0m                                 Traceback (most recent call last)",
            "\u001b[0;32m<ipython-input-35-02648bd5df82>\u001b[0m in \u001b[0;36m<module>\u001b[0;34m()\u001b[0m\n\u001b[0;32m----> 1\u001b[0;31m \u001b[0mprint\u001b[0m\u001b[0;34m(\u001b[0m\u001b[0mrank_3_tensor\u001b[0m\u001b[0;34m[\u001b[0m\u001b[0;34m:\u001b[0m\u001b[0;34m,\u001b[0m \u001b[0;34m:\u001b[0m\u001b[0;34m,\u001b[0m \u001b[0;36m4\u001b[0m\u001b[0;34m]\u001b[0m\u001b[0;34m)\u001b[0m\u001b[0;34m\u001b[0m\u001b[0;34m\u001b[0m\u001b[0m\n\u001b[0m",
            "\u001b[0;31mNameError\u001b[0m: name 'rank_3_tensor' is not defined"
          ]
        }
      ]
    },
    {
      "cell_type": "code",
      "metadata": {
        "id": "0AA4Esrn032j"
      },
      "source": [
        "rank_3_tensor = tf.constant([[[0,1,2,3,4],[5,6,7,8,9]],[[10,11,12,13,14],[15,16,17,18,19]],[[20,21,22,23,24],[25,26,27,28,29]]], tf.int32)"
      ],
      "execution_count": 38,
      "outputs": []
    },
    {
      "cell_type": "code",
      "metadata": {
        "colab": {
          "base_uri": "https://localhost:8080/"
        },
        "id": "dMSKKj541tXD",
        "outputId": "9a209e31-2ea6-43ee-fde4-702b19fd0cc8"
      },
      "source": [
        "print(rank_3_tensor[:, :, 4])"
      ],
      "execution_count": 39,
      "outputs": [
        {
          "output_type": "stream",
          "text": [
            "tf.Tensor(\n",
            "[[ 4  9]\n",
            " [14 19]\n",
            " [24 29]], shape=(3, 2), dtype=int32)\n"
          ],
          "name": "stdout"
        }
      ]
    },
    {
      "cell_type": "code",
      "metadata": {
        "colab": {
          "base_uri": "https://localhost:8080/"
        },
        "id": "_pc_x0I31xr9",
        "outputId": "257b371c-503b-4c70-c42e-c92c7c94caca"
      },
      "source": [
        "print(rank_3_tensor.shape.as_list)"
      ],
      "execution_count": 42,
      "outputs": [
        {
          "output_type": "stream",
          "text": [
            "<bound method TensorShape.as_list of TensorShape([3, 2, 5])>\n"
          ],
          "name": "stdout"
        }
      ]
    },
    {
      "cell_type": "code",
      "metadata": {
        "id": "Uey0foRc3mxr"
      },
      "source": [
        "reshaped = tf.reshape(rank_3_tensor, [5,3,2])"
      ],
      "execution_count": 43,
      "outputs": []
    },
    {
      "cell_type": "code",
      "metadata": {
        "colab": {
          "base_uri": "https://localhost:8080/"
        },
        "id": "YNZo6_Ks-3MQ",
        "outputId": "cc0dc3b5-9472-49be-893b-68572482f94c"
      },
      "source": [
        "print(rank_3_tensor.shape)\r\n",
        "print(reshaped.shape)"
      ],
      "execution_count": 44,
      "outputs": [
        {
          "output_type": "stream",
          "text": [
            "(3, 2, 5)\n",
            "(5, 3, 2)\n"
          ],
          "name": "stdout"
        }
      ]
    },
    {
      "cell_type": "code",
      "metadata": {
        "colab": {
          "base_uri": "https://localhost:8080/"
        },
        "id": "lTdk1uzo_ISe",
        "outputId": "a262048a-dd7f-4fa1-f23a-f223b7247910"
      },
      "source": [
        "print(reshaped)"
      ],
      "execution_count": 45,
      "outputs": [
        {
          "output_type": "stream",
          "text": [
            "tf.Tensor(\n",
            "[[[ 0  1]\n",
            "  [ 2  3]\n",
            "  [ 4  5]]\n",
            "\n",
            " [[ 6  7]\n",
            "  [ 8  9]\n",
            "  [10 11]]\n",
            "\n",
            " [[12 13]\n",
            "  [14 15]\n",
            "  [16 17]]\n",
            "\n",
            " [[18 19]\n",
            "  [20 21]\n",
            "  [22 23]]\n",
            "\n",
            " [[24 25]\n",
            "  [26 27]\n",
            "  [28 29]]], shape=(5, 3, 2), dtype=int32)\n"
          ],
          "name": "stdout"
        }
      ]
    },
    {
      "cell_type": "code",
      "metadata": {
        "colab": {
          "base_uri": "https://localhost:8080/"
        },
        "id": "Ln_u6MkH_Q3a",
        "outputId": "db41ab57-1e94-40d0-eca8-9678f62c3615"
      },
      "source": [
        "print(tf.reshape(reshaped, [-1]))"
      ],
      "execution_count": 46,
      "outputs": [
        {
          "output_type": "stream",
          "text": [
            "tf.Tensor(\n",
            "[ 0  1  2  3  4  5  6  7  8  9 10 11 12 13 14 15 16 17 18 19 20 21 22 23\n",
            " 24 25 26 27 28 29], shape=(30,), dtype=int32)\n"
          ],
          "name": "stdout"
        }
      ]
    },
    {
      "cell_type": "code",
      "metadata": {
        "colab": {
          "base_uri": "https://localhost:8080/"
        },
        "id": "ueWiPfLPAFiH",
        "outputId": "9cd4f9b6-f961-4f3d-90d0-59c03816361b"
      },
      "source": [
        "print(tf.reshape(reshaped, [3*2, 5]), \"\\n\")\r\n",
        "print(tf.reshape(reshaped, [3, -1]))"
      ],
      "execution_count": 47,
      "outputs": [
        {
          "output_type": "stream",
          "text": [
            "tf.Tensor(\n",
            "[[ 0  1  2  3  4]\n",
            " [ 5  6  7  8  9]\n",
            " [10 11 12 13 14]\n",
            " [15 16 17 18 19]\n",
            " [20 21 22 23 24]\n",
            " [25 26 27 28 29]], shape=(6, 5), dtype=int32) \n",
            "\n",
            "tf.Tensor(\n",
            "[[ 0  1  2  3  4  5  6  7  8  9]\n",
            " [10 11 12 13 14 15 16 17 18 19]\n",
            " [20 21 22 23 24 25 26 27 28 29]], shape=(3, 10), dtype=int32)\n"
          ],
          "name": "stdout"
        }
      ]
    },
    {
      "cell_type": "code",
      "metadata": {
        "colab": {
          "base_uri": "https://localhost:8080/"
        },
        "id": "C-bns9xLAWsB",
        "outputId": "2df116b4-0107-4eb5-fc36-981b9f4e419a"
      },
      "source": [
        "the_f64_tensor = tf.constant([2.2, 3.3, 4.4], dtype=tf.float64)\r\n",
        "the_f16_tensor = tf.cast(the_f64_tensor, dtype=tf.float16)\r\n",
        "# Now, cast to an uint8 and lose the decimal precision\r\n",
        "the_u8_tensor = tf.cast(the_f16_tensor, dtype=tf.uint8)\r\n",
        "print(the_u8_tensor)"
      ],
      "execution_count": 48,
      "outputs": [
        {
          "output_type": "stream",
          "text": [
            "tf.Tensor([2 3 4], shape=(3,), dtype=uint8)\n"
          ],
          "name": "stdout"
        }
      ]
    }
  ]
}